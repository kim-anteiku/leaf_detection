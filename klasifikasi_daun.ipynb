{
  "nbformat": 4,
  "nbformat_minor": 0,
  "metadata": {
    "colab": {
      "name": "Klasifikasi_daun.ipynb",
      "provenance": [],
      "collapsed_sections": []
    },
    "kernelspec": {
      "display_name": "Python 3",
      "name": "python3"
    }
  },
  "cells": [
    {
      "cell_type": "markdown",
      "metadata": {
        "id": "urWT_WWIng5l"
      },
      "source": [
        "Mempersiapkan Data"
      ]
    },
    {
      "cell_type": "code",
      "metadata": {
        "colab": {
          "base_uri": "https://localhost:8080/"
        },
        "id": "FofomnfKmQFq",
        "outputId": "51ca904a-7319-4728-8346-c5c767c857b3"
      },
      "source": [
        "import tensorflow as tf\n",
        "from tensorflow.keras.optimizers import RMSprop\n",
        "from tensorflow.keras.preprocessing.image import ImageDataGenerator\n",
        "import os\n",
        "\n",
        "print(tf.__version__) # mengecek versi tensorflow"
      ],
      "execution_count": null,
      "outputs": [
        {
          "output_type": "stream",
          "text": [
            "2.3.0\n"
          ],
          "name": "stdout"
        }
      ]
    },
    {
      "cell_type": "code",
      "metadata": {
        "colab": {
          "base_uri": "https://localhost:8080/"
        },
        "id": "WOzK6nLII5wt",
        "outputId": "b0fb973d-e292-4dcc-c71b-595336178a63"
      },
      "source": [
        "from google.colab import drive\n",
        "drive.mount('/content/drive')"
      ],
      "execution_count": null,
      "outputs": [
        {
          "output_type": "stream",
          "text": [
            "Mounted at /content/drive\n"
          ],
          "name": "stdout"
        }
      ]
    },
    {
      "cell_type": "code",
      "metadata": {
        "id": "_D03K0dYHN-Q"
      },
      "source": [
        "main_dir = '/content/drive/MyDrive/daun'\n",
        "training_dir = os.path.join(main_dir, 'training')\n",
        "validation_dir = os.path.join(main_dir, 'validation')"
      ],
      "execution_count": null,
      "outputs": []
    },
    {
      "cell_type": "code",
      "metadata": {
        "colab": {
          "base_uri": "https://localhost:8080/"
        },
        "id": "Ru0_6YCqHP0b",
        "outputId": "24aed9cd-7159-404b-a293-ac4700d34e6c"
      },
      "source": [
        "os.listdir('/content/drive/MyDrive/daun/training')"
      ],
      "execution_count": null,
      "outputs": [
        {
          "output_type": "execute_result",
          "data": {
            "text/plain": [
              "['GMB_04', 'GMB_01', 'GMB_03', 'GMB_05', 'GMB_02']"
            ]
          },
          "metadata": {
            "tags": []
          },
          "execution_count": 5
        }
      ]
    },
    {
      "cell_type": "code",
      "metadata": {
        "colab": {
          "base_uri": "https://localhost:8080/"
        },
        "id": "zGN87GFRHd2G",
        "outputId": "d3dd7190-d439-4995-a28c-0614abac6b52"
      },
      "source": [
        "os.listdir('/content/drive/MyDrive/daun/validation')"
      ],
      "execution_count": null,
      "outputs": [
        {
          "output_type": "execute_result",
          "data": {
            "text/plain": [
              "['GMB_03', 'GMB_02', 'GMB_04', 'GMB_01', 'GMB_05']"
            ]
          },
          "metadata": {
            "tags": []
          },
          "execution_count": 6
        }
      ]
    },
    {
      "cell_type": "code",
      "metadata": {
        "id": "cpjVrwtfV-IU"
      },
      "source": [
        "# proses augmentasi gambar\n",
        "\n",
        "training_datagen = ImageDataGenerator(\n",
        "  rescale=1./255,\n",
        "  rotation_range=20,\n",
        "  horizontal_flip=True,\n",
        "  shear_range=0.2,\n",
        "  zoom_range=0.2,\n",
        "  fill_mode='nearest'\n",
        ")\n",
        "\n",
        "test_datagen = ImageDataGenerator(\n",
        "  rescale=1./255,\n",
        "  rotation_range=20,\n",
        "  horizontal_flip=True,\n",
        "  shear_range=0.2,\n",
        "  zoom_range=0.2,\n",
        "  fill_mode = 'nearest'  \n",
        ")"
      ],
      "execution_count": null,
      "outputs": []
    },
    {
      "cell_type": "code",
      "metadata": {
        "colab": {
          "base_uri": "https://localhost:8080/"
        },
        "id": "MnOBPbCSXFjC",
        "outputId": "a668a34a-74fc-46fc-dce1-892ee9f338cb"
      },
      "source": [
        "training_generator = training_datagen.flow_from_directory(\n",
        "    training_dir, # directory training\n",
        "    target_size=(64, 64),\n",
        "    batch_size=5,\n",
        "    color_mode=\"rgb\",\n",
        "    class_mode='categorical'\n",
        ")\n",
        "\n",
        "validation_generator = test_datagen.flow_from_directory(\n",
        "    validation_dir, # directory validation\n",
        "    target_size=(64, 64),\n",
        "    batch_size=5,\n",
        "    color_mode=\"rgb\",\n",
        "    class_mode='categorical'\n",
        ")"
      ],
      "execution_count": null,
      "outputs": [
        {
          "output_type": "stream",
          "text": [
            "Found 484 images belonging to 5 classes.\n",
            "Found 100 images belonging to 5 classes.\n"
          ],
          "name": "stdout"
        }
      ]
    },
    {
      "cell_type": "code",
      "metadata": {
        "id": "CjyroOxjYt7X"
      },
      "source": [
        "model = tf.keras.models.Sequential([\n",
        "  tf.keras.layers.Conv2D(32, (3, 3), activation='relu', input_shape=(64, 64, 3)),\n",
        "  tf.keras.layers.MaxPooling2D(2, 2),\n",
        "  tf.keras.layers.Conv2D(64, (3, 3), activation='relu'),\n",
        "  tf.keras.layers.MaxPooling2D(2, 2),\n",
        "  tf.keras.layers.Conv2D(128, (3, 3), activation='relu'),\n",
        "  tf.keras.layers.MaxPooling2D(2, 2),\n",
        "  tf.keras.layers.Flatten(),\n",
        "  tf.keras.layers.Dense(128, activation=\"relu\"),\n",
        "  tf.keras.layers.Dense(5, activation=\"softmax\")\n",
        "])"
      ],
      "execution_count": null,
      "outputs": []
    },
    {
      "cell_type": "code",
      "metadata": {
        "id": "4vw-pDHvbqH8"
      },
      "source": [
        "model.compile(loss=\"categorical_crossentropy\",\n",
        "              optimizer=tf.optimizers.Adam(),\n",
        "              metrics=['accuracy'])"
      ],
      "execution_count": null,
      "outputs": []
    },
    {
      "cell_type": "code",
      "metadata": {
        "colab": {
          "base_uri": "https://localhost:8080/"
        },
        "id": "Zj-NwpWJdKaB",
        "outputId": "70273844-c10e-45b2-e66c-23bd57db2c08"
      },
      "source": [
        "model.fit(\n",
        "    training_generator,\n",
        "    steps_per_epoch=5,\n",
        "    epochs=20,\n",
        "    validation_data=validation_generator,\n",
        "    validation_steps=5,\n",
        "    verbose=1\n",
        ")"
      ],
      "execution_count": null,
      "outputs": [
        {
          "output_type": "stream",
          "text": [
            "Epoch 1/20\n",
            "5/5 [==============================] - 12s 2s/step - loss: 1.0216 - accuracy: 0.6000 - val_loss: 2.2824 - val_accuracy: 0.4800\n",
            "Epoch 2/20\n",
            "5/5 [==============================] - 11s 2s/step - loss: 0.4816 - accuracy: 0.8400 - val_loss: 2.0104 - val_accuracy: 0.3600\n",
            "Epoch 3/20\n",
            "5/5 [==============================] - 11s 2s/step - loss: 0.6723 - accuracy: 0.7200 - val_loss: 2.2858 - val_accuracy: 0.3600\n",
            "Epoch 4/20\n",
            "5/5 [==============================] - 11s 2s/step - loss: 0.8486 - accuracy: 0.6400 - val_loss: 1.9865 - val_accuracy: 0.4800\n",
            "Epoch 5/20\n",
            "5/5 [==============================] - 11s 2s/step - loss: 0.8058 - accuracy: 0.7200 - val_loss: 2.6193 - val_accuracy: 0.3200\n",
            "Epoch 6/20\n",
            "5/5 [==============================] - 10s 2s/step - loss: 0.4535 - accuracy: 0.8800 - val_loss: 2.2897 - val_accuracy: 0.2800\n",
            "Epoch 7/20\n",
            "5/5 [==============================] - 11s 2s/step - loss: 0.7119 - accuracy: 0.6400 - val_loss: 2.2154 - val_accuracy: 0.2800\n",
            "Epoch 8/20\n",
            "5/5 [==============================] - 11s 2s/step - loss: 0.3828 - accuracy: 0.8400 - val_loss: 2.6976 - val_accuracy: 0.4000\n",
            "Epoch 9/20\n",
            "5/5 [==============================] - 11s 2s/step - loss: 0.7556 - accuracy: 0.6800 - val_loss: 2.7076 - val_accuracy: 0.4400\n",
            "Epoch 10/20\n",
            "5/5 [==============================] - 14s 3s/step - loss: 0.6351 - accuracy: 0.7200 - val_loss: 2.2652 - val_accuracy: 0.2400\n",
            "Epoch 11/20\n",
            "5/5 [==============================] - 11s 2s/step - loss: 0.3703 - accuracy: 0.9600 - val_loss: 2.2509 - val_accuracy: 0.3600\n",
            "Epoch 12/20\n",
            "5/5 [==============================] - 11s 2s/step - loss: 0.4856 - accuracy: 0.8800 - val_loss: 1.6309 - val_accuracy: 0.4400\n",
            "Epoch 13/20\n",
            "5/5 [==============================] - 11s 2s/step - loss: 0.4476 - accuracy: 0.8800 - val_loss: 2.2958 - val_accuracy: 0.4000\n",
            "Epoch 14/20\n",
            "5/5 [==============================] - 10s 2s/step - loss: 0.6566 - accuracy: 0.7500 - val_loss: 2.5063 - val_accuracy: 0.3200\n",
            "Epoch 15/20\n",
            "5/5 [==============================] - 11s 2s/step - loss: 0.7931 - accuracy: 0.7200 - val_loss: 2.9337 - val_accuracy: 0.4400\n",
            "Epoch 16/20\n",
            "5/5 [==============================] - 11s 2s/step - loss: 0.3240 - accuracy: 0.9600 - val_loss: 3.5277 - val_accuracy: 0.3600\n",
            "Epoch 17/20\n",
            "5/5 [==============================] - 11s 2s/step - loss: 0.2541 - accuracy: 0.9600 - val_loss: 2.4553 - val_accuracy: 0.4000\n",
            "Epoch 18/20\n",
            "5/5 [==============================] - 10s 2s/step - loss: 0.5933 - accuracy: 0.8400 - val_loss: 4.8398 - val_accuracy: 0.3200\n",
            "Epoch 19/20\n",
            "5/5 [==============================] - 11s 2s/step - loss: 0.3820 - accuracy: 0.8000 - val_loss: 2.5397 - val_accuracy: 0.4400\n",
            "Epoch 20/20\n",
            "5/5 [==============================] - 11s 2s/step - loss: 0.1631 - accuracy: 0.9600 - val_loss: 2.6286 - val_accuracy: 0.5600\n"
          ],
          "name": "stdout"
        },
        {
          "output_type": "execute_result",
          "data": {
            "text/plain": [
              "<tensorflow.python.keras.callbacks.History at 0x7f8340dc4dd8>"
            ]
          },
          "metadata": {
            "tags": []
          },
          "execution_count": 108
        }
      ]
    }
  ]
}